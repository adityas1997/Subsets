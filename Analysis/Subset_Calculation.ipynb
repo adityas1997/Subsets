{
 "cells": [
  {
   "cell_type": "code",
   "execution_count": null,
   "id": "16cb7792",
   "metadata": {},
   "outputs": [],
   "source": [
    "import os\n",
    "import cvxpy as cp\n",
    "import numpy as np\n",
    "\n",
    "def genSpikingArr(trialNum,unitNum,maxFiringRate):\n",
    "    spikingArr = np.random.uniform(0,maxFiringRate,size=(trialNum,unitNum))\n",
    "    return spikingArr/maxFiringRate\n",
    "\n",
    "def getHitRate(refArr):\n",
    "    return np.mean(refArr,axis=1)\n",
    "\n",
    "def solveOptProblem(A,b):\n",
    "    x = cp.Variable(np.shape(A)[1])\n",
    "    objective = cp.Minimize(cp.norm(x, 1))\n",
    "    constraints = [A @ x == b]\n",
    "    prob = cp.Problem(objective, constraints)\n",
    "    prob.solve()\n",
    "    return x.value\n",
    "\n",
    "def getSubset(inArr):\n",
    "    cutoff = np.mean(inArr) + np.std(inArr)\n",
    "    subset = [i for i,val in enumerate(inArr) if val >= cutoff]\n",
    "    return subset\n",
    "\n",
    "numberOfTrials = 50\n",
    "numberOfUnits = 70\n",
    "maxFiringRate = 100\n",
    "matrix = genSpikingArr(numberOfTrials,numberOfUnits,maxFiringRate)\n",
    "contrib = solveOptProblem(matrix)\n",
    "subsetInds = getSubset(contrib)\n"
   ]
  }
 ],
 "metadata": {
  "kernelspec": {
   "display_name": "Python 3 (ipykernel)",
   "language": "python",
   "name": "python3"
  },
  "language_info": {
   "codemirror_mode": {
    "name": "ipython",
    "version": 3
   },
   "file_extension": ".py",
   "mimetype": "text/x-python",
   "name": "python",
   "nbconvert_exporter": "python",
   "pygments_lexer": "ipython3",
   "version": "3.10.12"
  }
 },
 "nbformat": 4,
 "nbformat_minor": 5
}
