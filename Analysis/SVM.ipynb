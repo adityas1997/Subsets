{
 "cells": [
  {
   "cell_type": "code",
   "execution_count": null,
   "id": "efd5ecc8",
   "metadata": {
    "scrolled": false
   },
   "outputs": [],
   "source": [
    "import os\n",
    "import random\n",
    "import numpy as np\n",
    "from sklearn.svm import SVC\n",
    "from sklearn.model_selection import LeaveOneOut\n",
    "from sklearn.model_selection import GridSearchCV \n",
    "\n",
    "def normArr(iArr):\n",
    "    for a,row in enumerate(iArr):\n",
    "        iArr[a] = (row-np.mean(row))/np.std(row)\n",
    "    for c in range(np.shape(iArr)[1]):\n",
    "        col = iArr[:,c]\n",
    "        iArr[:,c] = (col-np.mean(col))/np.std(col)\n",
    "    return iArr\n",
    "\n",
    "def genSpikingArr(trialCount,unitCount,firingRateMax):\n",
    "    spikeArr = np.random.uniform(0,firingRateMax,size=(trialCount,unitCount))\n",
    "    return normArr(spikeArr)\n",
    "\n",
    "def createLabels(trialCount):\n",
    "    return [random.choice([0,1]) for i in range(trialCount)]\n",
    "\n",
    "def genAccArr(normedArr,behReal):\n",
    "    realAcc = []\n",
    "    for i in range(np.shape(normedArr)[0]):\n",
    "        for j in range(np.shape(normedArr)[1]):\n",
    "            if np.isnan(normedArr[i,j]):\n",
    "                normedArr[i,j] = np.random.uniform(-3,3)\n",
    "    looR = LeaveOneOut()\n",
    "    looR.get_n_splits(normedArr)\n",
    "    for trainInds,testInd in looR.split(normedArr):\n",
    "        xTrainR,xTestR = normedArr[trainInds],normedArr[testInd]\n",
    "        yTrainR,yTestR = behReal[trainInds],behReal[testInd]\n",
    "        param_grid = {\"kernel\": [\"poly\"],\n",
    "              \"degree\": [1,2,3,4,5,6,7,8,9,10,11,12],\n",
    "              \"coef0\": [1],\n",
    "              \"C\": [.0001,.001,.01,.1,1,10,100,1000,10000],\n",
    "              \"gamma\": [\"auto\", \"scale\",.0001,.001,.01,.1,1,10,50,100,125,250,500,750,1000,2500,5000,7500,10000],\n",
    "              \"tol\": [.0001,.001,.01,.1,1,10,100,1000,10000],\n",
    "              \"cache_size\": [10000],\n",
    "              \"max_iter\": [10000]} \n",
    "        grid = GridSearchCV(SVC(), param_grid,refit=True,verbose=False)\n",
    "        grid.fit(xTrainR,yTrainR)\n",
    "        yPred = grid.predict(xTestR)\n",
    "        if yPred == yTestR: realAcc.append(1)\n",
    "        else: realAcc.append(0)\n",
    "    return round(np.sum(realAcc)/len(realAcc),4)\n",
    "\n",
    "trialNumber = 50\n",
    "unitNumber = 70\n",
    "maxFiringRate = 100\n",
    "normedSpikingArr = genSpikingArr(trialNumber,unitNumber,maxFiringRate)\n",
    "behavior = createLabels(trialNumber)\n",
    "acc = genAccArr(normedSpikingArr,behavior)\n"
   ]
  }
 ],
 "metadata": {
  "kernelspec": {
   "display_name": "Python 3 (ipykernel)",
   "language": "python",
   "name": "python3"
  },
  "language_info": {
   "codemirror_mode": {
    "name": "ipython",
    "version": 3
   },
   "file_extension": ".py",
   "mimetype": "text/x-python",
   "name": "python",
   "nbconvert_exporter": "python",
   "pygments_lexer": "ipython3",
   "version": "3.10.12"
  }
 },
 "nbformat": 4,
 "nbformat_minor": 5
}
